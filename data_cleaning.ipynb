{
  "cells": [
    {
      "cell_type": "code",
      "execution_count": 1,
      "metadata": {
        "colab": {
          "base_uri": "https://localhost:8080/"
        },
        "id": "flRE29LRAEbc",
        "outputId": "d6aac8b3-5aac-46f0-f598-8c5b474bda46"
      },
      "outputs": [
        {
          "name": "stdout",
          "output_type": "stream",
          "text": [
            "Requirement already satisfied: pandas in /usr/local/lib/python3.11/dist-packages (2.2.2)\n",
            "Requirement already satisfied: numpy>=1.23.2 in /usr/local/lib/python3.11/dist-packages (from pandas) (1.26.4)\n",
            "Requirement already satisfied: python-dateutil>=2.8.2 in /usr/local/lib/python3.11/dist-packages (from pandas) (2.8.2)\n",
            "Requirement already satisfied: pytz>=2020.1 in /usr/local/lib/python3.11/dist-packages (from pandas) (2025.1)\n",
            "Requirement already satisfied: tzdata>=2022.7 in /usr/local/lib/python3.11/dist-packages (from pandas) (2025.1)\n",
            "Requirement already satisfied: six>=1.5 in /usr/local/lib/python3.11/dist-packages (from python-dateutil>=2.8.2->pandas) (1.17.0)\n"
          ]
        }
      ],
      "source": [
        "!pip install pandas\n"
      ]
    },
    {
      "cell_type": "code",
      "execution_count": 2,
      "metadata": {
        "id": "1T0ZEwVzASGo"
      },
      "outputs": [],
      "source": [
        "import pandas as pd\n",
        "import numpy as np"
      ]
    },
    {
      "cell_type": "markdown",
      "metadata": {
        "id": "1fjBeKikBHv9"
      },
      "source": [
        "### Data Cleaning"
      ]
    },
    {
      "cell_type": "code",
      "execution_count": 3,
      "metadata": {
        "colab": {
          "base_uri": "https://localhost:8080/"
        },
        "id": "wzgVokX2A6ci",
        "outputId": "1028c959-ad36-4759-dd1c-efdffa6ef4fd"
      },
      "outputs": [
        {
          "name": "stderr",
          "output_type": "stream",
          "text": [
            "<ipython-input-3-6569074e42e9>:1: DtypeWarning: Columns (4) have mixed types. Specify dtype option on import or set low_memory=False.\n",
            "  df = pd.read_table('data/title.basics.tsv.gz')\n"
          ]
        }
      ],
      "source": [
        "df = pd.read_table('data/title.basics.tsv.gz')"
      ]
    },
    {
      "cell_type": "code",
      "execution_count": 4,
      "metadata": {
        "id": "dg-Ncc9THGMg"
      },
      "outputs": [],
      "source": [
        "ratings = pd.read_table('data/title.ratings.tsv.gz')"
      ]
    },
    {
      "cell_type": "code",
      "execution_count": 5,
      "metadata": {
        "id": "GWtwzu9RHGZm"
      },
      "outputs": [],
      "source": [
        "crew = pd.read_table('data/title.crew.tsv.gz')"
      ]
    },
    {
      "cell_type": "code",
      "execution_count": 6,
      "metadata": {
        "id": "WfvZeAfkHGj3"
      },
      "outputs": [],
      "source": [
        "name = pd.read_table('data/name.basics.tsv.gz')\n",
        "name = name[['nconst','primaryName']]"
      ]
    },
    {
      "cell_type": "code",
      "execution_count": 7,
      "metadata": {
        "id": "Tq1JEMf3BBhu"
      },
      "outputs": [],
      "source": [
        "movies = df.query('titleType == \"movie\"')"
      ]
    },
    {
      "cell_type": "code",
      "execution_count": 8,
      "metadata": {
        "colab": {
          "base_uri": "https://localhost:8080/"
        },
        "id": "dpSYl0_EHD3Z",
        "outputId": "a8873dc1-a07c-4ffb-c71f-8f7743544d0f"
      },
      "outputs": [
        {
          "name": "stdout",
          "output_type": "stream",
          "text": [
            "<class 'pandas.core.frame.DataFrame'>\n",
            "RangeIndex: 705510 entries, 0 to 705509\n",
            "Data columns (total 12 columns):\n",
            " #   Column          Non-Null Count   Dtype  \n",
            "---  ------          --------------   -----  \n",
            " 0   tconst          705510 non-null  object \n",
            " 1   titleType       705510 non-null  object \n",
            " 2   primaryTitle    705508 non-null  object \n",
            " 3   originalTitle   705508 non-null  object \n",
            " 4   isAdult         705510 non-null  object \n",
            " 5   startYear       705510 non-null  object \n",
            " 6   endYear         705510 non-null  object \n",
            " 7   runtimeMinutes  705510 non-null  object \n",
            " 8   genres          705510 non-null  object \n",
            " 9   averageRating   324809 non-null  float64\n",
            " 10  numVotes        324809 non-null  float64\n",
            " 11  directors       705510 non-null  object \n",
            "dtypes: float64(2), object(10)\n",
            "memory usage: 64.6+ MB\n"
          ]
        }
      ],
      "source": [
        "crew = crew.drop('writers',axis=1)\n",
        "movies = movies.merge(ratings,how='left',on='tconst')\n",
        "movies = movies.merge(crew,how='left',on='tconst')"
      ]
    },
    {
      "cell_type": "code",
      "execution_count": 9,
      "metadata": {
        "id": "766GNSKqJ-tp"
      },
      "outputs": [],
      "source": [
        "movies['directors'] = movies['directors'].str.split(',')"
      ]
    },
    {
      "cell_type": "code",
      "execution_count": 10,
      "metadata": {
        "id": "LRI4MjT_MqN2"
      },
      "outputs": [],
      "source": [
        "movies = movies.explode('directors')"
      ]
    },
    {
      "cell_type": "code",
      "execution_count": 11,
      "metadata": {
        "id": "1CaXfAlVOFIr"
      },
      "outputs": [],
      "source": [
        "movies = movies.merge(name,how='left',left_on='directors', right_on='nconst')"
      ]
    },
    {
      "cell_type": "code",
      "execution_count": 12,
      "metadata": {
        "id": "lelh2mfhOSfX"
      },
      "outputs": [],
      "source": [
        "movies = movies.drop(['endYear','directors','nconst','titleType'],axis=1)"
      ]
    },
    {
      "cell_type": "code",
      "execution_count": 13,
      "metadata": {
        "colab": {
          "base_uri": "https://localhost:8080/"
        },
        "id": "EWvWwFvCQF66",
        "outputId": "e760863f-ff0c-4212-ae59-a6660d6c9ef5"
      },
      "outputs": [
        {
          "name": "stdout",
          "output_type": "stream",
          "text": [
            "<class 'pandas.core.frame.DataFrame'>\n",
            "RangeIndex: 784064 entries, 0 to 784063\n",
            "Data columns (total 10 columns):\n",
            " #   Column          Non-Null Count   Dtype  \n",
            "---  ------          --------------   -----  \n",
            " 0   tconst          784064 non-null  object \n",
            " 1   primaryTitle    784062 non-null  object \n",
            " 2   originalTitle   784062 non-null  object \n",
            " 3   isAdult         784064 non-null  object \n",
            " 4   startYear       784064 non-null  object \n",
            " 5   runtimeMinutes  784064 non-null  object \n",
            " 6   genres          784064 non-null  object \n",
            " 7   averageRating   370044 non-null  float64\n",
            " 8   numVotes        370044 non-null  float64\n",
            " 9   directors       709032 non-null  object \n",
            "dtypes: float64(2), object(8)\n",
            "memory usage: 59.8+ MB\n"
          ]
        }
      ],
      "source": [
        "movies = movies.rename({'primaryName':'directors'},axis=1)"
      ]
    },
    {
      "cell_type": "code",
      "execution_count": 14,
      "metadata": {
        "id": "X3XIPSTuQjB8"
      },
      "outputs": [],
      "source": [
        "columns = [column for column in movies.columns if column != 'directors']\n",
        "\n",
        "movies = movies.groupby(columns).agg({'directors': lambda nomes: ','.join([nome for nome in nomes if pd.notna(nome)]) if len(nomes) > 0 else np.nan}).reset_index()"
      ]
    },
    {
      "cell_type": "code",
      "execution_count": null,
      "metadata": {},
      "outputs": [],
      "source": [
        "columns = ['startYear','runtimeMinutes','genres']\n",
        "movies[columns] = movies[columns].map(lambda text: text if text != '\\\\N' else None)"
      ]
    },
    {
      "cell_type": "code",
      "execution_count": null,
      "metadata": {
        "id": "cxmFNs89ZuD2"
      },
      "outputs": [],
      "source": [
        "movies.to_csv('data/movies_data.csv')"
      ]
    }
  ],
  "metadata": {
    "colab": {
      "provenance": []
    },
    "kernelspec": {
      "display_name": "Python 3",
      "name": "python3"
    },
    "language_info": {
      "name": "python"
    }
  },
  "nbformat": 4,
  "nbformat_minor": 0
}
